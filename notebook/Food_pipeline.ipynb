{
 "cells": [
  {
   "cell_type": "code",
   "execution_count": 1,
   "metadata": {},
   "outputs": [],
   "source": [
    "import sys\n",
    "import subprocess\n",
    "import findspark\n",
    "findspark.init()\n",
    "findspark.find()\n",
    "\n",
    "from pyspark.sql import SQLContext\n",
    "from pyspark.sql import SparkSession\n",
    "\n",
    "\n",
    "from pyspark.sql.types import (StructType, StructField, \n",
    "                               IntegerType, StringType, Row, FloatType)\n",
    "from pyspark.sql.functions import * "
   ]
  },
  {
   "attachments": {},
   "cell_type": "markdown",
   "metadata": {},
   "source": [
    "#### Entry Points of Spark"
   ]
  },
  {
   "cell_type": "code",
   "execution_count": 3,
   "metadata": {},
   "outputs": [
    {
     "name": "stderr",
     "output_type": "stream",
     "text": [
      "23/05/04 20:03:27 WARN Utils: Your hostname, lamamalona resolves to a loopback address: 127.0.1.1; using 192.168.1.78 instead (on interface eno1)\n",
      "23/05/04 20:03:27 WARN Utils: Set SPARK_LOCAL_IP if you need to bind to another address\n",
      "WARNING: An illegal reflective access operation has occurred\n",
      "WARNING: Illegal reflective access by org.apache.spark.unsafe.Platform (file:/home/joseluis/anaconda3/envs/entornospark/lib/python3.9/site-packages/pyspark/jars/spark-unsafe_2.12-3.2.1.jar) to constructor java.nio.DirectByteBuffer(long,int)\n",
      "WARNING: Please consider reporting this to the maintainers of org.apache.spark.unsafe.Platform\n",
      "WARNING: Use --illegal-access=warn to enable warnings of further illegal reflective access operations\n",
      "WARNING: All illegal access operations will be denied in a future release\n",
      "Using Spark's default log4j profile: org/apache/spark/log4j-defaults.properties\n",
      "Setting default log level to \"WARN\".\n",
      "To adjust logging level use sc.setLogLevel(newLevel). For SparkR, use setLogLevel(newLevel).\n",
      "23/05/04 20:03:28 WARN NativeCodeLoader: Unable to load native-hadoop library for your platform... using builtin-java classes where applicable\n"
     ]
    },
    {
     "name": "stdout",
     "output_type": "stream",
     "text": [
      "Spark object is created...\n"
     ]
    },
    {
     "name": "stderr",
     "output_type": "stream",
     "text": [
      "/home/joseluis/anaconda3/envs/entornospark/lib/python3.9/site-packages/pyspark/sql/context.py:77: FutureWarning: Deprecated in 3.0.0. Use SparkSession.builder.getOrCreate() instead.\n",
      "  warnings.warn(\n"
     ]
    }
   ],
   "source": [
    "spark = SparkSession\\\n",
    "    .builder\\\n",
    "    .master('local')\\\n",
    "    .appName('food_data_pipeline')\\\n",
    "    .config(\"spark.driver.extraClassPath\", \"/home/joseluis/driver_jdbc/postgresql-42.6.0.jar\")\\\n",
    "    .getOrCreate()\n",
    "\n",
    "sqlContext = SQLContext(spark)\n",
    "\n",
    "print(\"Spark object is created...\")"
   ]
  },
  {
   "attachments": {},
   "cell_type": "markdown",
   "metadata": {},
   "source": [
    "#### Download of the data"
   ]
  },
  {
   "cell_type": "code",
   "execution_count": null,
   "metadata": {},
   "outputs": [],
   "source": [
    "url = \"https://static.openfoodfacts.org/data/en.openfoodfacts.org.products.csv\"\n",
    "output_file = \"./download/openfoodfacts-database.csv\""
   ]
  },
  {
   "cell_type": "code",
   "execution_count": null,
   "metadata": {},
   "outputs": [],
   "source": [
    "try:\n",
    "    subprocess.run(['wget','-O', output_file, url], check=True)\n",
    "except:\n",
    "    print(\"Theres something wrong with the download\")\n",
    "    sys.exit(1)\n",
    "else:\n",
    "    print(\"File downloaded successfully...\")"
   ]
  },
  {
   "attachments": {},
   "cell_type": "markdown",
   "metadata": {},
   "source": [
    "#### Open the file as a CSV \n",
    "\n",
    "SOME ERROR HERE"
   ]
  },
  {
   "cell_type": "code",
   "execution_count": 19,
   "metadata": {},
   "outputs": [],
   "source": [
    "\"\"\" \n",
    "Defining the first column of the dataset as a string because every id it's too long\n",
    "to represent it as a int \n",
    "\"\"\"\n",
    "\n",
    "customSchema = StructType([StructField(\"code\", StringType(), True),\n",
    "                           StructField(\"energy-kcal_100g\", FloatType(), True),\n",
    "                           StructField(\"energy_100g\", FloatType(), True),\n",
    "                           StructField(\"fat_100g\", FloatType(), True),\n",
    "                           StructField(\"saturated-fat_100g\", FloatType(), True),\n",
    "                           StructField(\"carbohydrates_100g\", FloatType(), True),\n",
    "                           StructField(\"sugars_100g\", FloatType(), True),\n",
    "                           StructField(\"fiber_100g\", FloatType(), True),\n",
    "                           StructField(\"proteins_100g\", FloatType(), True),\n",
    "                           StructField(\"salt_100g\", FloatType(), True),\n",
    "                           StructField(\"sodium_100g\", FloatType(), True),\n",
    "                           \n",
    "                           ])\n"
   ]
  },
  {
   "cell_type": "code",
   "execution_count": 20,
   "metadata": {},
   "outputs": [],
   "source": [
    "openfoodfactsDF = (\n",
    "    spark\n",
    "    .read\n",
    "    .format(\"csv\")\n",
    "    .option(\"header\",\"true\")\n",
    "    .option(\"schema\",customSchema)\n",
    "    .option(\"delimiter\",\"\\t\")\n",
    "    .option(\"mode\",\"FAILFAST\")\n",
    "    .load(\"./download/openfoodfacts-database.csv\")\n",
    "    )"
   ]
  },
  {
   "attachments": {},
   "cell_type": "markdown",
   "metadata": {},
   "source": [
    "#### Saving as a Parquet"
   ]
  },
  {
   "cell_type": "code",
   "execution_count": null,
   "metadata": {},
   "outputs": [],
   "source": [
    "openfoodfactsDF.write.parquet(\"./download/openfoodfacts-database.parquet\")"
   ]
  },
  {
   "attachments": {},
   "cell_type": "markdown",
   "metadata": {},
   "source": [
    "##### Opening the parquet file"
   ]
  },
  {
   "cell_type": "code",
   "execution_count": 4,
   "metadata": {},
   "outputs": [],
   "source": [
    "FoodDatabaseDF = (\n",
    "    spark\n",
    "    .read\n",
    "    .format(\"parquet\")\n",
    "    .load(\"./download/openfoodfacts-database.parquet/\")\n",
    ")"
   ]
  },
  {
   "cell_type": "code",
   "execution_count": 5,
   "metadata": {},
   "outputs": [],
   "source": [
    "FoodDatabaseDF = FoodDatabaseDF.select(\"code\",\n",
    "\"url\",\n",
    "\"product_name\",\n",
    "\"brands\",\n",
    "\"categories_en\",\n",
    "\"countries_en\",\n",
    "\"ingredients_text\",\n",
    "\"additives_n\",\n",
    "\"additives_en\",\n",
    "\"main_category_en\",\n",
    "\"image_url\",\n",
    "\"energy-kcal_100g\",\n",
    "\"energy_100g\",\n",
    "\"fat_100g\",\n",
    "\"saturated-fat_100g\",\n",
    "\"carbohydrates_100g\",\n",
    "\"sugars_100g\",\n",
    "\"fiber_100g\",\n",
    "\"proteins_100g\",\n",
    "\"salt_100g\",\n",
    "\"sodium_100g\",\n",
    ")"
   ]
  },
  {
   "attachments": {},
   "cell_type": "markdown",
   "metadata": {},
   "source": [
    "##### Data exploration"
   ]
  },
  {
   "cell_type": "code",
   "execution_count": 5,
   "metadata": {},
   "outputs": [
    {
     "name": "stdout",
     "output_type": "stream",
     "text": [
      "+--------------------+--------------------+----------------+-------+--------------------+------------+--------------------+-----------+------------+----------------+--------------------+----------------+-----------+--------+------------------+------------------+-----------+----------+-------------+---------+-----------+\n",
      "|                code|                 url|    product_name| brands|       categories_en|countries_en|    ingredients_text|additives_n|additives_en|main_category_en|           image_url|energy-kcal_100g|energy_100g|fat_100g|saturated-fat_100g|carbohydrates_100g|sugars_100g|fiber_100g|proteins_100g|salt_100g|sodium_100g|\n",
      "+--------------------+--------------------+----------------+-------+--------------------+------------+--------------------+-----------+------------+----------------+--------------------+----------------+-----------+--------+------------------+------------------+-----------+----------+-------------+---------+-----------+\n",
      "|   00000000000000225|http://world-en.o...|  jeunes pousses|endives|                null|      France|                null|       null|        null|            null|                null|            null|       null|    null|              null|              null|       null|      null|         null|     null|       null|\n",
      "|00000000000002070...|http://world-en.o...|           Andrè|   null|                null|     Germany|                null|       null|        null|            null|                null|             165|        690|       2|                 2|                65|       12.6|         3|          1.5|     null|       null|\n",
      "|00000000000003429145|http://world-en.o...|         L.casei|   null|                null|       Spain|Leche semidesnata...|          0|        null|            null|https://images.op...|            null|       null|     1.4|               0.9|               9.8|        9.8|      null|          2.7|      0.1|       0.04|\n",
      "|00000000000026772226|http://world-en.o...|            Skyr| Danone|Dairies,Fermented...|      France|                null|       null|        null|   Cream cheeses|https://images.op...|              57|        238|     0.2|               0.1|               3.9|        3.9|      null|           10|     0.09|      0.036|\n",
      "|       0000000000017|http://world-en.o...|Vitória crackers|   null|                null|      France|                null|       null|        null|            null|https://images.op...|             375|       1569|       7|              3.08|              70.1|         15|      null|          7.8|      1.4|       0.56|\n",
      "+--------------------+--------------------+----------------+-------+--------------------+------------+--------------------+-----------+------------+----------------+--------------------+----------------+-----------+--------+------------------+------------------+-----------+----------+-------------+---------+-----------+\n",
      "only showing top 5 rows\n",
      "\n"
     ]
    }
   ],
   "source": [
    "FoodDatabaseDF.show(5)"
   ]
  },
  {
   "attachments": {},
   "cell_type": "markdown",
   "metadata": {},
   "source": [
    "\n",
    "Amount of rows in the dataset"
   ]
  },
  {
   "cell_type": "code",
   "execution_count": 6,
   "metadata": {},
   "outputs": [
    {
     "data": {
      "text/plain": [
       "19529"
      ]
     },
     "execution_count": 6,
     "metadata": {},
     "output_type": "execute_result"
    }
   ],
   "source": [
    "FoodDatabaseDF.count()"
   ]
  },
  {
   "attachments": {},
   "cell_type": "markdown",
   "metadata": {},
   "source": [
    "\n",
    "Creating a function that calculate the amount of missing data per column in the dataframe"
   ]
  },
  {
   "cell_type": "code",
   "execution_count": 7,
   "metadata": {},
   "outputs": [],
   "source": [
    "def missing_values_count(DF):\n",
    "    \n",
    "    missing_values_count = DF\\\n",
    "    .select([count(when(isnan(c) | col(c).isNull(), c)).alias(c) for c in DF.columns])\n",
    "\n",
    "    return missing_values_count"
   ]
  },
  {
   "attachments": {},
   "cell_type": "markdown",
   "metadata": {},
   "source": [
    "\n",
    "Amount of missing data per column in the dataframe"
   ]
  },
  {
   "cell_type": "code",
   "execution_count": 8,
   "metadata": {},
   "outputs": [
    {
     "name": "stdout",
     "output_type": "stream",
     "text": [
      "+----+---+------------+------+-------------+------------+----------------+-----------+------------+----------------+---------+----------------+-----------+--------+------------------+------------------+-----------+----------+-------------+---------+-----------+\n",
      "|code|url|product_name|brands|categories_en|countries_en|ingredients_text|additives_n|additives_en|main_category_en|image_url|energy-kcal_100g|energy_100g|fat_100g|saturated-fat_100g|carbohydrates_100g|sugars_100g|fiber_100g|proteins_100g|salt_100g|sodium_100g|\n",
      "+----+---+------------+------+-------------+------------+----------------+-----------+------------+----------------+---------+----------------+-----------+--------+------------------+------------------+-----------+----------+-------------+---------+-----------+\n",
      "|   0|  0|         564|  6952|         9323|          46|            9185|       9185|       12708|            9323|     8934|            2660|       2604|    2740|              4076|              2695|       3266|      7742|         2711|     4139|       4139|\n",
      "+----+---+------------+------+-------------+------------+----------------+-----------+------------+----------------+---------+----------------+-----------+--------+------------------+------------------+-----------+----------+-------------+---------+-----------+\n",
      "\n"
     ]
    },
    {
     "name": "stderr",
     "output_type": "stream",
     "text": [
      "                                                                                \r"
     ]
    }
   ],
   "source": [
    "result = missing_values_count(FoodDatabaseDF)\n",
    "result.show()"
   ]
  },
  {
   "attachments": {},
   "cell_type": "markdown",
   "metadata": {},
   "source": [
    "\n",
    "Calculating the amount of fields in all the dataset"
   ]
  },
  {
   "cell_type": "code",
   "execution_count": 9,
   "metadata": {},
   "outputs": [
    {
     "name": "stdout",
     "output_type": "stream",
     "text": [
      "410109\n"
     ]
    }
   ],
   "source": [
    "rows = FoodDatabaseDF.count()\n",
    "columns = len(FoodDatabaseDF.columns)\n",
    "total_cells = rows*columns\n",
    "print(total_cells)"
   ]
  },
  {
   "attachments": {},
   "cell_type": "markdown",
   "metadata": {},
   "source": [
    "\n",
    "trying to the missing data of all the dataset"
   ]
  },
  {
   "cell_type": "code",
   "execution_count": 10,
   "metadata": {},
   "outputs": [
    {
     "ename": "AttributeError",
     "evalue": "'function' object has no attribute 'select'",
     "output_type": "error",
     "traceback": [
      "\u001b[0;31m---------------------------------------------------------------------------\u001b[0m",
      "\u001b[0;31mAttributeError\u001b[0m                            Traceback (most recent call last)",
      "Cell \u001b[0;32mIn[10], line 1\u001b[0m\n\u001b[0;32m----> 1\u001b[0m missing_values_count\u001b[39m.\u001b[39;49mselect(\u001b[39msum\u001b[39m(\u001b[39m*\u001b[39m[missing_values_count[column] \u001b[39mfor\u001b[39;00m column \u001b[39min\u001b[39;00m missing_values_count\u001b[39m.\u001b[39mcolumns]))\n",
      "\u001b[0;31mAttributeError\u001b[0m: 'function' object has no attribute 'select'"
     ]
    }
   ],
   "source": [
    "missing_values_count.select(sum(*[missing_values_count[column] for column in missing_values_count.columns]))"
   ]
  },
  {
   "attachments": {},
   "cell_type": "markdown",
   "metadata": {},
   "source": [
    "\n",
    "Showing the categories of the dataset and the number of times that is repeated"
   ]
  },
  {
   "cell_type": "code",
   "execution_count": 11,
   "metadata": {},
   "outputs": [
    {
     "name": "stdout",
     "output_type": "stream",
     "text": [
      "+--------------------+-----+\n",
      "|       categories_en|count|\n",
      "+--------------------+-----+\n",
      "|                null| 9323|\n",
      "|              Snacks|  734|\n",
      "|Snacks,Sweet snac...|  320|\n",
      "|Condiments,Sauces...|  320|\n",
      "|Snacks,Sweet snac...|  317|\n",
      "|       Salted-snacks|  313|\n",
      "|Snacks,Sweet snac...|  280|\n",
      "|Desserts,Frozen f...|  258|\n",
      "|Dairies,Fermented...|  254|\n",
      "|Snacks,Sweet snac...|  164|\n",
      "|Plant-based foods...|  164|\n",
      "|Condiments,Groceries|  148|\n",
      "|Plant-based foods...|  138|\n",
      "|        Frozen foods|  132|\n",
      "|Plant-based foods...|  126|\n",
      "|Plant-based foods...|  114|\n",
      "|Meats and their p...|  114|\n",
      "|Plant-based foods...|  109|\n",
      "|Dairies,Fermented...|  106|\n",
      "|Plant-based foods...|   98|\n",
      "+--------------------+-----+\n",
      "only showing top 20 rows\n",
      "\n"
     ]
    }
   ],
   "source": [
    "categories_table = FoodDatabaseDF.groupBy(\"categories_en\").count().orderBy(\"count\", ascending=False)\n",
    "categories_table.show()"
   ]
  },
  {
   "attachments": {},
   "cell_type": "markdown",
   "metadata": {},
   "source": [
    "Showing the countries of the dataset and the number of times that is repeated"
   ]
  },
  {
   "cell_type": "code",
   "execution_count": 12,
   "metadata": {},
   "outputs": [
    {
     "name": "stdout",
     "output_type": "stream",
     "text": [
      "+--------------------+-----+\n",
      "|        countries_en|count|\n",
      "+--------------------+-----+\n",
      "|       United States|15013|\n",
      "|              France| 2268|\n",
      "|      United Kingdom|  377|\n",
      "|               Spain|  366|\n",
      "|              Canada|  297|\n",
      "|               Italy|  239|\n",
      "|             Germany|  159|\n",
      "|France,United Kin...|  132|\n",
      "|France,United States|   81|\n",
      "|             Belgium|   63|\n",
      "|             Ireland|   61|\n",
      "|                null|   46|\n",
      "|         Switzerland|   35|\n",
      "|           Australia|   27|\n",
      "|      France,Germany|   25|\n",
      "|         Puerto Rico|   22|\n",
      "|             Romania|   17|\n",
      "|              Mexico|   16|\n",
      "|Germany,United St...|   10|\n",
      "|              Panama|    9|\n",
      "+--------------------+-----+\n",
      "only showing top 20 rows\n",
      "\n"
     ]
    }
   ],
   "source": [
    "countries_table = FoodDatabaseDF.groupBy(\"countries_en\").count().orderBy(\"count\", ascending=False)\n",
    "countries_table.show()"
   ]
  },
  {
   "attachments": {},
   "cell_type": "markdown",
   "metadata": {},
   "source": [
    "Showing the number of additives grouped by quantity in the dataset and the number of times that is repeated"
   ]
  },
  {
   "cell_type": "code",
   "execution_count": 13,
   "metadata": {},
   "outputs": [
    {
     "name": "stdout",
     "output_type": "stream",
     "text": [
      "+-----------+-----+\n",
      "|additives_n|count|\n",
      "+-----------+-----+\n",
      "|       null| 9185|\n",
      "|          0| 3523|\n",
      "|          1| 1686|\n",
      "|          2| 1130|\n",
      "|          3|  824|\n",
      "|          4|  694|\n",
      "|          5|  567|\n",
      "|          6|  422|\n",
      "|          7|  404|\n",
      "|          8|  307|\n",
      "|          9|  186|\n",
      "|         10|  129|\n",
      "|         11|   98|\n",
      "|         12|   67|\n",
      "|         13|   63|\n",
      "|         15|   31|\n",
      "|         14|   30|\n",
      "|         16|   27|\n",
      "|         20|   22|\n",
      "|         23|   19|\n",
      "+-----------+-----+\n",
      "only showing top 20 rows\n",
      "\n"
     ]
    }
   ],
   "source": [
    "additives_table = FoodDatabaseDF.groupBy(\"additives_n\").count().orderBy(\"count\", ascending=False)\n",
    "additives_table.show()"
   ]
  },
  {
   "cell_type": "code",
   "execution_count": 14,
   "metadata": {},
   "outputs": [
    {
     "name": "stdout",
     "output_type": "stream",
     "text": [
      "+----------------+-----+\n",
      "|energy-kcal_100g|count|\n",
      "+----------------+-----+\n",
      "|            null| 2660|\n",
      "|               0|  797|\n",
      "|             500|  351|\n",
      "|             400|  287|\n",
      "|             357|  227|\n",
      "|             200|  210|\n",
      "|             250|  157|\n",
      "|             300|  155|\n",
      "|             375|  153|\n",
      "|             333|  151|\n",
      "|             100|  149|\n",
      "|              50|  137|\n",
      "|             600|  129|\n",
      "|             571|  123|\n",
      "|             286|  111|\n",
      "| 357.14285714286|  108|\n",
      "|             429|   97|\n",
      "|             393|   96|\n",
      "| 333.33333333333|   90|\n",
      "|             350|   81|\n",
      "+----------------+-----+\n",
      "only showing top 20 rows\n",
      "\n"
     ]
    }
   ],
   "source": [
    "energy_table = FoodDatabaseDF.groupBy(\"energy-kcal_100g\").count().orderBy(\"count\", ascending=False)\n",
    "energy_table.show()"
   ]
  },
  {
   "cell_type": "code",
   "execution_count": 15,
   "metadata": {},
   "outputs": [
    {
     "name": "stdout",
     "output_type": "stream",
     "text": [
      "+-----------+-----+\n",
      "|energy_100g|count|\n",
      "+-----------+-----+\n",
      "|       null| 2604|\n",
      "|          0|  799|\n",
      "|       1494|  353|\n",
      "|       2092|  348|\n",
      "|       1674|  284|\n",
      "|        837|  208|\n",
      "|       1644|  189|\n",
      "|       1255|  154|\n",
      "|       1046|  152|\n",
      "|       1569|  150|\n",
      "|       1393|  150|\n",
      "|        418|  149|\n",
      "|        209|  137|\n",
      "|       2510|  129|\n",
      "|       2389|  123|\n",
      "|       1197|  106|\n",
      "|       1395|  102|\n",
      "|        448|   99|\n",
      "|       1795|   97|\n",
      "|       1623|   80|\n",
      "+-----------+-----+\n",
      "only showing top 20 rows\n",
      "\n"
     ]
    }
   ],
   "source": [
    "energy1_table = FoodDatabaseDF.groupBy(\"energy_100g\").count().orderBy(\"count\", ascending=False)\n",
    "energy1_table.show()"
   ]
  },
  {
   "cell_type": "code",
   "execution_count": 16,
   "metadata": {},
   "outputs": [
    {
     "name": "stdout",
     "output_type": "stream",
     "text": [
      "+--------+-----+\n",
      "|fat_100g|count|\n",
      "+--------+-----+\n",
      "|       0| 4493|\n",
      "|    null| 2740|\n",
      "|      50|  234|\n",
      "|      10|  183|\n",
      "|      25|  177|\n",
      "|      20|  161|\n",
      "|      30|  147|\n",
      "|     0.5|  131|\n",
      "|       4|  128|\n",
      "|    1.79|  119|\n",
      "|   32.14|  104|\n",
      "|   28.57|  102|\n",
      "|       1|   93|\n",
      "|   16.67|   85|\n",
      "|   21.43|   82|\n",
      "|       6|   79|\n",
      "|      40|   79|\n",
      "|      12|   77|\n",
      "|      15|   73|\n",
      "|    3.57|   72|\n",
      "+--------+-----+\n",
      "only showing top 20 rows\n",
      "\n"
     ]
    }
   ],
   "source": [
    "fat_table = FoodDatabaseDF.groupBy(\"fat_100g\").count().orderBy(\"count\", ascending=False)\n",
    "fat_table.show()"
   ]
  },
  {
   "cell_type": "code",
   "execution_count": 16,
   "metadata": {},
   "outputs": [
    {
     "name": "stdout",
     "output_type": "stream",
     "text": [
      "+------------------+-----+\n",
      "|saturated-fat_100g|count|\n",
      "+------------------+-----+\n",
      "|                 0| 5270|\n",
      "|              null| 4076|\n",
      "|                 5|  198|\n",
      "|              3.57|  144|\n",
      "|                 1|  140|\n",
      "|               0.1|  135|\n",
      "|              7.14|  133|\n",
      "|                10|  132|\n",
      "|              3.33|  127|\n",
      "|                20|  126|\n",
      "|               0.2|  114|\n",
      "|               0.5|  109|\n",
      "|                 3|  104|\n",
      "|             14.29|   92|\n",
      "|             17.86|   89|\n",
      "|   6.6666666666667|   84|\n",
      "|                 2|   84|\n",
      "|              6.67|   79|\n",
      "|              5.36|   79|\n",
      "|              6.25|   74|\n",
      "+------------------+-----+\n",
      "only showing top 20 rows\n",
      "\n"
     ]
    }
   ],
   "source": [
    "s_fat_table = FoodDatabaseDF.groupBy(\"saturated-fat_100g\").count().orderBy(\"count\", ascending=False)\n",
    "s_fat_table.show()"
   ]
  },
  {
   "cell_type": "code",
   "execution_count": 17,
   "metadata": {},
   "outputs": [
    {
     "name": "stdout",
     "output_type": "stream",
     "text": [
      "+------------------+-----+\n",
      "|carbohydrates_100g|count|\n",
      "+------------------+-----+\n",
      "|              null| 2695|\n",
      "|                 0| 1778|\n",
      "|                50|  215|\n",
      "|              3.57|  206|\n",
      "|                 5|  188|\n",
      "|                10|  188|\n",
      "|                60|  181|\n",
      "|                20|  176|\n",
      "|                75|  144|\n",
      "|                80|  136|\n",
      "|              6.67|  133|\n",
      "|                40|  127|\n",
      "|   3.5714285714286|  120|\n",
      "|                25|  119|\n",
      "|               100|  117|\n",
      "|             66.67|  104|\n",
      "|                12|   97|\n",
      "|             28.57|   92|\n",
      "|                70|   87|\n",
      "|              3.33|   83|\n",
      "+------------------+-----+\n",
      "only showing top 20 rows\n",
      "\n"
     ]
    }
   ],
   "source": [
    "carbo_table = FoodDatabaseDF.groupBy(\"carbohydrates_100g\").count().orderBy(\"count\", ascending=False)\n",
    "carbo_table.show()"
   ]
  },
  {
   "cell_type": "code",
   "execution_count": 18,
   "metadata": {},
   "outputs": [
    {
     "name": "stdout",
     "output_type": "stream",
     "text": [
      "+---------------+-----+\n",
      "|    sugars_100g|count|\n",
      "+---------------+-----+\n",
      "|           null| 3266|\n",
      "|              0| 3191|\n",
      "|           3.57|  338|\n",
      "|           3.33|  210|\n",
      "|              1|  170|\n",
      "|             20|  163|\n",
      "|              5|  149|\n",
      "|             10|  147|\n",
      "|3.5714285714286|  140|\n",
      "|3.3333333333333|  139|\n",
      "|             25|  133|\n",
      "|             40|  130|\n",
      "|           6.67|  114|\n",
      "|            0.5|  110|\n",
      "|             50|  109|\n",
      "|              2|  104|\n",
      "|           7.14|  103|\n",
      "|              4|   87|\n",
      "|          38.89|   78|\n",
      "|          33.33|   72|\n",
      "+---------------+-----+\n",
      "only showing top 20 rows\n",
      "\n"
     ]
    }
   ],
   "source": [
    "sug_table = FoodDatabaseDF.groupBy(\"sugars_100g\").count().orderBy(\"count\", ascending=False)\n",
    "sug_table.show()"
   ]
  },
  {
   "cell_type": "code",
   "execution_count": 19,
   "metadata": {},
   "outputs": [
    {
     "name": "stdout",
     "output_type": "stream",
     "text": [
      "+---------------+-----+\n",
      "|     fiber_100g|count|\n",
      "+---------------+-----+\n",
      "|           null| 7742|\n",
      "|              0| 3995|\n",
      "|            3.6|  324|\n",
      "|            0.8|  200|\n",
      "|              2|  194|\n",
      "|            1.4|  186|\n",
      "|            2.4|  185|\n",
      "|            1.2|  182|\n",
      "|            1.8|  176|\n",
      "|            3.3|  164|\n",
      "|             10|  162|\n",
      "|            1.6|  159|\n",
      "|              1|  151|\n",
      "|            7.1|  143|\n",
      "|              5|  138|\n",
      "|            2.5|  132|\n",
      "|3.5714285714286|  126|\n",
      "|            2.8|  123|\n",
      "|            1.7|  116|\n",
      "|            2.3|  112|\n",
      "+---------------+-----+\n",
      "only showing top 20 rows\n",
      "\n"
     ]
    }
   ],
   "source": [
    "fib_table = FoodDatabaseDF.groupBy(\"fiber_100g\").count().orderBy(\"count\", ascending=False)\n",
    "fib_table.show()"
   ]
  },
  {
   "cell_type": "code",
   "execution_count": 20,
   "metadata": {},
   "outputs": [
    {
     "name": "stdout",
     "output_type": "stream",
     "text": [
      "+---------------+-----+\n",
      "|  proteins_100g|count|\n",
      "+---------------+-----+\n",
      "|              0| 3669|\n",
      "|           null| 2711|\n",
      "|             10|  303|\n",
      "|           7.14|  232|\n",
      "|             25|  211|\n",
      "|              5|  205|\n",
      "|           3.33|  203|\n",
      "|           6.67|  183|\n",
      "|             20|  183|\n",
      "|           12.5|  174|\n",
      "|3.3333333333333|  138|\n",
      "|6.6666666666667|  127|\n",
      "|           3.57|  125|\n",
      "|              4|  121|\n",
      "|           5.56|  119|\n",
      "|              8|  114|\n",
      "|            2.5|  110|\n",
      "|7.1428571428571|  108|\n",
      "|           0.83|   98|\n",
      "|5.5555555555556|   97|\n",
      "+---------------+-----+\n",
      "only showing top 20 rows\n",
      "\n"
     ]
    }
   ],
   "source": [
    "proteins_table = FoodDatabaseDF.groupBy(\"proteins_100g\").count().orderBy(\"count\", ascending=False)\n",
    "proteins_table.show()"
   ]
  },
  {
   "cell_type": "code",
   "execution_count": 21,
   "metadata": {},
   "outputs": [
    {
     "name": "stdout",
     "output_type": "stream",
     "text": [
      "+---------+-----+\n",
      "|salt_100g|count|\n",
      "+---------+-----+\n",
      "|     null| 4139|\n",
      "|        0| 2284|\n",
      "|      0.1|  160|\n",
      "|    0.125|  141|\n",
      "|     1.25|  123|\n",
      "|        1|  119|\n",
      "|     0.25|  105|\n",
      "|      1.5|   99|\n",
      "|     0.03|   99|\n",
      "|     0.02|   91|\n",
      "|        2|   87|\n",
      "|      2.5|   82|\n",
      "|     0.01|   81|\n",
      "|      0.3|   77|\n",
      "|    1.875|   71|\n",
      "|      0.5|   69|\n",
      "|   1.5175|   67|\n",
      "|      0.6|   66|\n",
      "|      1.1|   62|\n",
      "|     0.15|   61|\n",
      "+---------+-----+\n",
      "only showing top 20 rows\n",
      "\n"
     ]
    }
   ],
   "source": [
    "salt_table = FoodDatabaseDF.groupBy(\"salt_100g\").count().orderBy(\"count\", ascending=False)\n",
    "salt_table.show()"
   ]
  },
  {
   "cell_type": "code",
   "execution_count": 22,
   "metadata": {},
   "outputs": [
    {
     "name": "stdout",
     "output_type": "stream",
     "text": [
      "+-----------+-----+\n",
      "|sodium_100g|count|\n",
      "+-----------+-----+\n",
      "|       null| 4139|\n",
      "|          0| 2284|\n",
      "|       0.04|  159|\n",
      "|       0.05|  141|\n",
      "|        0.5|  123|\n",
      "|        0.4|  119|\n",
      "|        0.1|  105|\n",
      "|      0.012|   99|\n",
      "|        0.6|   99|\n",
      "|      0.008|   91|\n",
      "|        0.8|   87|\n",
      "|          1|   82|\n",
      "|      0.004|   81|\n",
      "|       0.12|   77|\n",
      "|       0.75|   72|\n",
      "|        0.2|   70|\n",
      "|      0.607|   67|\n",
      "|       0.24|   66|\n",
      "|       0.44|   62|\n",
      "|       0.06|   61|\n",
      "+-----------+-----+\n",
      "only showing top 20 rows\n",
      "\n"
     ]
    }
   ],
   "source": [
    "salt_table = FoodDatabaseDF.groupBy(\"sodium_100g\").count().orderBy(\"count\", ascending=False)\n",
    "salt_table.show()"
   ]
  },
  {
   "attachments": {},
   "cell_type": "markdown",
   "metadata": {},
   "source": [
    "#### Cleaning the data"
   ]
  },
  {
   "attachments": {},
   "cell_type": "markdown",
   "metadata": {},
   "source": [
    "\n",
    "Drop rows with null data of the columns \"product_name\" and \"brands\""
   ]
  },
  {
   "cell_type": "code",
   "execution_count": 17,
   "metadata": {},
   "outputs": [],
   "source": [
    "FoodDatabaseDF = FoodDatabaseDF.na.drop(subset=[\"product_name\",\"brands\"])"
   ]
  },
  {
   "cell_type": "code",
   "execution_count": 18,
   "metadata": {},
   "outputs": [
    {
     "data": {
      "text/plain": [
       "12418"
      ]
     },
     "execution_count": 18,
     "metadata": {},
     "output_type": "execute_result"
    }
   ],
   "source": [
    "FoodDatabaseDF.count()"
   ]
  },
  {
   "attachments": {},
   "cell_type": "markdown",
   "metadata": {},
   "source": [
    "Handling with missing values in categorical data\n",
    "\n",
    "In the next cases, we will imput the value \"missing\", to treats it as a separate category"
   ]
  },
  {
   "cell_type": "code",
   "execution_count": 19,
   "metadata": {},
   "outputs": [],
   "source": [
    "FoodDatabaseDF = FoodDatabaseDF.na.fill(value=\"missing\",subset=[\"categories_en\"])"
   ]
  },
  {
   "cell_type": "code",
   "execution_count": 20,
   "metadata": {},
   "outputs": [],
   "source": [
    "FoodDatabaseDF = FoodDatabaseDF.na.fill(value=\"missing\",subset=[\"ingredients_text\"])"
   ]
  },
  {
   "cell_type": "code",
   "execution_count": 21,
   "metadata": {},
   "outputs": [],
   "source": [
    "FoodDatabaseDF = FoodDatabaseDF.na.fill(value='missing',subset=[\"additives_en\"])"
   ]
  },
  {
   "cell_type": "code",
   "execution_count": 22,
   "metadata": {},
   "outputs": [],
   "source": [
    "FoodDatabaseDF = FoodDatabaseDF.na.fill(value='missing',subset=[\"main_category_en\"])"
   ]
  },
  {
   "cell_type": "code",
   "execution_count": 23,
   "metadata": {},
   "outputs": [],
   "source": [
    "FoodDatabaseDF = FoodDatabaseDF.na.fill(value='missing',subset=[\"image_url\"])"
   ]
  },
  {
   "attachments": {},
   "cell_type": "markdown",
   "metadata": {},
   "source": [
    "Creating a function that imputing the most repeated data on the column of origin"
   ]
  },
  {
   "cell_type": "code",
   "execution_count": 24,
   "metadata": {},
   "outputs": [],
   "source": [
    "def categorical_mode_imputing(DF, table, column_name):\n",
    "\n",
    "    # getting the bigger value of the agrouped table countries\n",
    "    max_count = table.where(col(column_name) != 'null').select(max(\"count\")).first()[0]\n",
    "\n",
    "    #getting the name of the country that is the most repeated \n",
    "    table_mode = table.select(column_name).where(col(\"count\") == max_count).first()[0]\n",
    "\n",
    "    #Filling the null fields\n",
    "    DF = DF.na.fill(value = table_mode,subset=[column_name])\n",
    "\n",
    "    return DF"
   ]
  },
  {
   "cell_type": "code",
   "execution_count": 25,
   "metadata": {},
   "outputs": [],
   "source": [
    "FoodDatabaseDF = categorical_mode_imputing(FoodDatabaseDF, countries_table, \"countries_en\")"
   ]
  },
  {
   "cell_type": "code",
   "execution_count": 26,
   "metadata": {},
   "outputs": [],
   "source": [
    "FoodDatabaseDF = categorical_mode_imputing(FoodDatabaseDF, additives_table ,\"additives_n\")"
   ]
  },
  {
   "attachments": {},
   "cell_type": "markdown",
   "metadata": {},
   "source": [
    "Imputing numerical data"
   ]
  },
  {
   "attachments": {},
   "cell_type": "markdown",
   "metadata": {},
   "source": [
    "Creating a function that calculate the mean of a specific column"
   ]
  },
  {
   "cell_type": "code",
   "execution_count": 27,
   "metadata": {},
   "outputs": [],
   "source": [
    "def mean_numerical_tables(DF, column ):\n",
    "\n",
    "    table = DF.where(col(column) != 'null').select(column)\n",
    "    table = table.withColumn(column, col(column).cast('float'))\n",
    "\n",
    "    total_values = table.count()\n",
    "    total_sum = table.select(sum(table[column])).first()[0]\n",
    "    mean = total_sum/total_values\n",
    "\n",
    "    return mean\n"
   ]
  },
  {
   "attachments": {},
   "cell_type": "markdown",
   "metadata": {},
   "source": [
    "Creating a function that imputing the mean in a specific column"
   ]
  },
  {
   "cell_type": "code",
   "execution_count": 28,
   "metadata": {},
   "outputs": [],
   "source": [
    "def imputing_mean (DF, column):\n",
    "\n",
    "    mean = mean_numerical_tables(DF, column)\n",
    "    DF = DF.withColumn(column, col(column).cast('float'))\n",
    "    DF = DF.na.fill(value = mean ,subset=[column])\n",
    "    \n",
    "    return DF"
   ]
  },
  {
   "cell_type": "code",
   "execution_count": 29,
   "metadata": {},
   "outputs": [],
   "source": [
    "column_list = [\"energy-kcal_100g\", \"energy_100g\", \"fat_100g\", \"saturated-fat_100g\", \"carbohydrates_100g\",\n",
    "                \"sugars_100g\", \"fiber_100g\", \"proteins_100g\", \"salt_100g\", \"sodium_100g\"]"
   ]
  },
  {
   "cell_type": "code",
   "execution_count": 30,
   "metadata": {},
   "outputs": [],
   "source": [
    "for column in column_list:\n",
    "    FoodDatabaseDF = imputing_mean(FoodDatabaseDF, column)"
   ]
  },
  {
   "cell_type": "code",
   "execution_count": 31,
   "metadata": {},
   "outputs": [
    {
     "name": "stdout",
     "output_type": "stream",
     "text": [
      "+----+---+------------+------+-------------+------------+----------------+-----------+------------+----------------+---------+----------------+-----------+--------+------------------+------------------+-----------+----------+-------------+---------+-----------+\n",
      "|code|url|product_name|brands|categories_en|countries_en|ingredients_text|additives_n|additives_en|main_category_en|image_url|energy-kcal_100g|energy_100g|fat_100g|saturated-fat_100g|carbohydrates_100g|sugars_100g|fiber_100g|proteins_100g|salt_100g|sodium_100g|\n",
      "+----+---+------------+------+-------------+------------+----------------+-----------+------------+----------------+---------+----------------+-----------+--------+------------------+------------------+-----------+----------+-------------+---------+-----------+\n",
      "|   0|  0|           0|     0|            0|           0|               0|          0|           0|               0|        0|               0|          0|       0|                 0|                 0|          0|         0|            0|        0|          0|\n",
      "+----+---+------------+------+-------------+------------+----------------+-----------+------------+----------------+---------+----------------+-----------+--------+------------------+------------------+-----------+----------+-------------+---------+-----------+\n",
      "\n"
     ]
    }
   ],
   "source": [
    "result = missing_values_count(FoodDatabaseDF)\n",
    "result.show()"
   ]
  },
  {
   "attachments": {},
   "cell_type": "markdown",
   "metadata": {},
   "source": [
    "Load of the data"
   ]
  },
  {
   "cell_type": "code",
   "execution_count": 32,
   "metadata": {},
   "outputs": [],
   "source": [
    "import os"
   ]
  },
  {
   "cell_type": "code",
   "execution_count": 33,
   "metadata": {},
   "outputs": [],
   "source": [
    "os.environ['DB_USER'] = \"user_data\"\n",
    "os.environ['DB_PASSWORD'] = \"admin\"\n",
    "os.environ['DB_HOST'] = \"localhost\"\n",
    "os.environ['DB_PORT'] = \"5432\"\n",
    "os.environ['DB_NAME'] = \"myinner_db\""
   ]
  },
  {
   "cell_type": "code",
   "execution_count": 34,
   "metadata": {},
   "outputs": [],
   "source": [
    "db_user = os.environ['DB_USER'] \n",
    "db_password = os.environ['DB_PASSWORD']\n",
    "db_host = os.environ['DB_HOST']\n",
    "db_port = os.environ['DB_PORT']\n",
    "db_name = os.environ['DB_NAME']\n"
   ]
  },
  {
   "cell_type": "code",
   "execution_count": 35,
   "metadata": {},
   "outputs": [],
   "source": [
    "POSTGRES_CONFIG = {\n",
    "    \"url\":f\"jdbc:postgresql://{db_host}:{db_port}/{db_name}\",\n",
    "    \"properties\":{\n",
    "        \"user\": db_user, \n",
    "        \"password\":db_password,\n",
    "        \"driver\":\"org.postgresql.Driver\",\n",
    "    },\n",
    "}"
   ]
  },
  {
   "cell_type": "code",
   "execution_count": 36,
   "metadata": {},
   "outputs": [
    {
     "data": {
      "text/plain": [
       "{'url': 'jdbc:postgresql://localhost:5432/myinner_db',\n",
       " 'properties': {'user': 'user_data',\n",
       "  'password': 'admin',\n",
       "  'driver': 'org.postgresql.Driver'}}"
      ]
     },
     "execution_count": 36,
     "metadata": {},
     "output_type": "execute_result"
    }
   ],
   "source": [
    "POSTGRES_CONFIG"
   ]
  },
  {
   "cell_type": "code",
   "execution_count": 38,
   "metadata": {},
   "outputs": [],
   "source": [
    "FoodDatabaseDF.select(\"*\").write.jdbc(**POSTGRES_CONFIG, table=\"FoodDatabaseDF\", mode=\"overwrite\")"
   ]
  },
  {
   "cell_type": "code",
   "execution_count": 96,
   "metadata": {},
   "outputs": [],
   "source": [
    "spark.stop()"
   ]
  }
 ],
 "metadata": {
  "kernelspec": {
   "display_name": "entornospark",
   "language": "python",
   "name": "python3"
  },
  "language_info": {
   "codemirror_mode": {
    "name": "ipython",
    "version": 3
   },
   "file_extension": ".py",
   "mimetype": "text/x-python",
   "name": "python",
   "nbconvert_exporter": "python",
   "pygments_lexer": "ipython3",
   "version": "3.9.16"
  },
  "orig_nbformat": 4
 },
 "nbformat": 4,
 "nbformat_minor": 2
}
